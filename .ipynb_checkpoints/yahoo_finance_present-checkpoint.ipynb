{
 "cells": [
  {
   "cell_type": "code",
   "execution_count": 1,
   "metadata": {
    "collapsed": true
   },
   "outputs": [],
   "source": [
    "# -*- coding: utf-8 -*-\n",
    "# PN: stock index crawler, Created Feb, 2017\n",
    "# Version 1.0\n",
    "# KW: crawler yahoo_finance\n",
    "# Link: https://www.jerrynest.com/python-yahoo-finance-api-historical-stock-price/, https://pypi.python.org/pypi/yahoo-finance"
   ]
  },
  {
   "cell_type": "code",
   "execution_count": 2,
   "metadata": {
    "collapsed": true
   },
   "outputs": [],
   "source": [
    "# --------------------------------------------------- lib import\n",
    "# main use: yahoo_finance, sqlite3, datetime\n",
    "from yahoo_finance import Share\n",
    "import datetime\n",
    "import sys\n",
    "import sqlite3\n",
    "conn = sqlite3.connect('index.sqlite')\n",
    "import csv\n",
    "import re"
   ]
  },
  {
   "cell_type": "code",
   "execution_count": 4,
   "metadata": {
    "collapsed": false
   },
   "outputs": [
    {
     "name": "stdout",
     "output_type": "stream",
     "text": [
      "INSERT OR IGNORE INTO prices values('2017-02-24', 5, 2454600, 9757.669922, 9784.389648, 9740.179688, 9750.469727, 9750.469727)\n",
      "INSERT OR IGNORE INTO prices values('2017-02-23', 4, 2525500, 9774.080078, 9810.55957, 9748.94043, 9769.30957, 9769.30957)\n",
      "INSERT OR IGNORE INTO prices values('2017-02-22', 3, 2566100, 9786.25, 9820.070312, 9770.099609, 9778.780273, 9778.780273)\n",
      "INSERT OR IGNORE INTO prices values('2017-02-21', 2, 2406100, 9761.269531, 9775.490234, 9721.360352, 9763.929688, 9763.929688)\n",
      "INSERT OR IGNORE INTO prices values('2017-02-20', 1, 2517600, 9795.80957, 9817.139648, 9743.360352, 9753.200195, 9753.200195)\n",
      "INSERT OR IGNORE INTO prices values('2017-02-17', 5, 2180300, 9779.160156, 9791.589844, 9754.540039, 9759.759766, 9759.759766)\n",
      "INSERT OR IGNORE INTO prices values('2017-02-16', 4, 2654800, 9826.889648, 9869.589844, 9753.160156, 9771.25, 9771.25)\n"
     ]
    }
   ],
   "source": [
    "# --------------------------------------------------- part2: index\n",
    "def getIndex(id):\n",
    "    index = Share(id)\n",
    "#     setting initial crawl date\n",
    "    date = datetime.date(2017, 2, 24)\n",
    "#     setting crawl duration (ex: last 10 date, not trading day)\n",
    "    for i in range(1, 11):\n",
    "#         用來匯出禮拜幾的資訊\n",
    "        weekday = date.isoweekday()\n",
    "        try:\n",
    "            datas = str(index.get_historical('{}'.format(date), '{}'.format(date)))\n",
    "            lis = list()\n",
    "            \n",
    "#             regular expression for crawl content\n",
    "            # date\n",
    "            pdate_match = re.search(r'\\d\\d\\d\\d\\-\\d\\d\\-\\d\\d', datas)\n",
    "            pdate = pdate_match.group()\n",
    "            lis.append(pdate)\n",
    "            # weekday\n",
    "            lis.append(weekday)\n",
    "            # volumn\n",
    "#             there are questions on volumn units, if need precise data, further crawler needed\n",
    "            volumn_match = re.search(r'\\'(\\d+)\\'', datas)\n",
    "            volumn = volumn_match.group(1)\n",
    "            lis.append(volumn)\n",
    "            # open price test\n",
    "            openPrice_match = re.search(r'Open\\'\\: \\'(\\d\\d\\d\\d\\.\\d+)\\'', datas)\n",
    "            openPrice = openPrice_match.group(1)\n",
    "            lis.append(openPrice)\n",
    "            # high price\n",
    "            highPrice_match = re.search(r'High\\'\\: \\'(\\d\\d\\d\\d\\.\\d+)\\'', datas)\n",
    "            highPrice = highPrice_match.group(1)\n",
    "            lis.append(highPrice)\n",
    "            # low price\n",
    "            lowPrice_match = re.search(r'Low\\'\\: \\'(\\d\\d\\d\\d\\.\\d+)\\'', datas)\n",
    "            lowPrice = lowPrice_match.group(1)\n",
    "            lis.append(lowPrice)\n",
    "            # close price\n",
    "            closePrice_match = re.search(r'Close\\'\\: \\'(\\d\\d\\d\\d\\.\\d+)\\'', datas)\n",
    "            closePrice = closePrice_match.group(1)\n",
    "            lis.append(closePrice)\n",
    "            # adj close price\n",
    "            adjclosePrice_match = re.search(r'Adj_Close\\'\\: \\'(\\d\\d\\d\\d\\.\\d+)\\'', datas)\n",
    "            adjclosePrice = adjclosePrice_match.group(1)\n",
    "            lis.append(adjclosePrice)\n",
    "            \n",
    "            # print(lis)\t# test whether lis exists\n",
    "            \n",
    "#             open sqlite for data importing\n",
    "            sqlstr = \"SELECT * FROM prices WHERE pdate={}\".format(lis[0])\n",
    "            # print(sqlstr)\n",
    "            cursor = conn.execute(sqlstr)\n",
    "            if len(cursor.fetchall()) == 0:\n",
    "                weekday = 0 if lis[1] == '' else int(lis[1])\n",
    "                volumn = 0 if lis[2] == '' else int(lis[2])\n",
    "                open = 0 if lis[3] == '' else float(lis[3])\n",
    "                high = 0 if lis[4] == '' else float(lis[4])\n",
    "                low = 0 if lis[5] == '' else float(lis[5])\n",
    "                close = 0 if lis[6] == '' else float(lis[6])\n",
    "                adjclose = 0 if lis[7] == '' else float(lis[7])\n",
    "                sqlstr = \"INSERT OR IGNORE INTO prices values('{}', {}, {}, {}, {}, {}, {}, {})\".format(lis[0], weekday, volumn, open, high, low, close, adjclose)\n",
    "                conn.execute(sqlstr)\n",
    "                conn.commit()\n",
    "                print(sqlstr)\n",
    "            date = date - datetime.timedelta(1)\n",
    "        except:\n",
    "            date = date - datetime.timedelta(1)\n",
    "\n",
    "getIndex('^TWII')"
   ]
  },
  {
   "cell_type": "code",
   "execution_count": null,
   "metadata": {
    "collapsed": true
   },
   "outputs": [],
   "source": [
    "# there are securities and fx function can be built!"
   ]
  }
 ],
 "metadata": {
  "anaconda-cloud": {},
  "kernelspec": {
   "display_name": "Python [default]",
   "language": "python",
   "name": "python3"
  },
  "language_info": {
   "codemirror_mode": {
    "name": "ipython",
    "version": 3
   },
   "file_extension": ".py",
   "mimetype": "text/x-python",
   "name": "python",
   "nbconvert_exporter": "python",
   "pygments_lexer": "ipython3",
   "version": "3.5.2"
  }
 },
 "nbformat": 4,
 "nbformat_minor": 1
}
